{
 "cells": [
  {
   "cell_type": "code",
   "execution_count": 18,
   "metadata": {
    "collapsed": false
   },
   "outputs": [
    {
     "name": "stdout",
     "output_type": "stream",
     "text": [
      "32\n",
      "2555904\n",
      "2555904\n",
      "27\n"
     ]
    }
   ],
   "source": [
    "#%matplotlib qt\n",
    "import numpy as np\n",
    "from scipy import ndimage\n",
    "import cv2\n",
    "from matplotlib import pyplot as plt\n",
    "\n",
    "fgbg = cv2.createBackgroundSubtractorMOG2(2,3,False)\n",
    "perFrame=False\n",
    "name=580\n",
    "name1=58\n",
    "back=cv2.imread('C:\\\\Users\\\\egor\\\\Documents\\\\test_matches\\\\test_match2\\\\'+str(name1).zfill(9)+\".png\",0)\n",
    "perFrame=True\n",
    "def deflicker(currentFrame,prevFrame):\n",
    "    thresh=20\n",
    "    (h, w) = currentFrame.shape[:2]\n",
    "    for i in range(h):\n",
    "        for j in range(w):\n",
    "            stren=abs(currentFrame[i][j]-prevFrame[i][j])\n",
    "            if(stren>thresh):\n",
    "                print(currentFrame[i][j],currentFrame[i][j]>prevFrame[i][j] and currentFrame[i][j]<255)\n",
    "                if(currentFrame[i][j]>prevFrame[i][j] and currentFrame[i][j]<255):\n",
    "                    currentFrame[i][j]+=1\n",
    "                elif(currentFrame[i][j]>0):\n",
    "                    currentFrame[i][j]-=1\n",
    "                    \n",
    "def verticalProjection(img):\n",
    "    \"Return a list containing the sum of the pixels in each column\"\n",
    "    (h, w) = img.shape[:2]\n",
    "    sumCols = []\n",
    "    for j in range(w):\n",
    "        col = img[0:h, j:j+1] # y1:y2, x1:x2\n",
    "        sumCols.append(np.sum(col))\n",
    "    return sumCols\n",
    "frame = cv2.imread('C:\\\\Users\\\\egor\\\\Documents\\\\test_matches\\\\test_match2\\\\'+str(name).zfill(9)+\".png\",0)\n",
    "oldFgmask=cv2.subtract(back, frame)\n",
    "while(name<1862):\n",
    "    frame = cv2.imread('C:\\\\Users\\\\egor\\\\Documents\\\\test_matches\\\\test_match2\\\\'+str(name).zfill(9)+\".png\",0)\n",
    "    fgmask=cv2.subtract(frame,back)\n",
    "    ret,thresh = cv2.threshold(fgmask,7,255,cv2.THRESH_BINARY_INV)\n",
    "    #hist = cv2.calcHist([fgmask],[0],None,[256],[0,256])\n",
    "    orig=thresh\n",
    "    gray = cv2.GaussianBlur(orig, (55, 55), 0)\n",
    "    (minVal, maxVal, minLoc, maxLoc) = cv2.minMaxLoc(gray)\n",
    "    image = orig.copy()\n",
    "    cv2.circle(frame, maxLoc, 55, (255, 0, 0), 2)\n",
    "    #sx = ndimage.sobel(fgmask, axis=0, mode='constant')\n",
    "    #sy = ndimage.sobel(fgmask, axis=1, mode='constant')\n",
    "    #sob = np.hypot(sx, sy)\n",
    "    #plt.imshow(sob)\n",
    "    #plt.draw()\n",
    "    #fgmask = fgbg.apply(frame)\n",
    "    black = np.zeros_like(fgmask)       \n",
    "    #cv2.imshow('frame12',sob)\n",
    "    \n",
    "    im2, contours, hierarchy = cv2.findContours(thresh,cv2.RETR_TREE,cv2.CHAIN_APPROX_SIMPLE)\n",
    "    \n",
    "    #cv2.putText(frame,str(perFrame), (100,100), cv2.FONT_HERSHEY_SIMPLEX, 2, 255)\n",
    "    if(len(contours)<1e3):\n",
    "        resCnt=[]\n",
    "        for elem in contours:\n",
    "                area=cv2.contourArea(elem)\n",
    "                if(area>15):\n",
    "                    x,y,w,h = cv2.boundingRect(elem)\n",
    "                    rect=frame[y:y+h, x:x+w]\n",
    "                    black[y:y+h, x:x+w]=rect\n",
    "                    (x,y),radius = cv2.minEnclosingCircle(elem)\n",
    "                    center = (int(x),int(y))\n",
    "                    radius = int(radius)\n",
    "                    #cv2.circle(black,center,radius,(255,255,255),-1)\n",
    "                    cv2.circle(fgmask,center,radius,(255,255,255),2)\n",
    "                    \n",
    "                    #cv2.drawContours(img,[box],0,(0,0,255),2)\n",
    "                    #cv2.drawContours(black,[box],0,(0,0,255),2)        \n",
    "    \n",
    "    #cv2.drawContours(frame, resCnt, -1, (0,255,0), 3)\n",
    "    name+=1\n",
    "    #cv2.imshow('asdasd',temp)\n",
    "    cv2.imshow('frame1',thresh)\n",
    "    cv2.imshow('frame',fgmask)\n",
    "    delay = 30\n",
    "    k = cv2.waitKey(delay)\n",
    "    plt.clf()\n",
    "    if(k!=-1):\n",
    "        print (k)\n",
    "    if k == 27:\n",
    "        break\n",
    "        \n",
    "    if k == 32 or perFrame==True:\n",
    "        k = cv2.waitKey(0)\n",
    "        if(k==32):\n",
    "            perFrame=False\n",
    "            continue\n",
    "        if(k == 2555904):\n",
    "            perFrame=True\n",
    "            continue\n",
    "        \n",
    "        \n",
    "    \n",
    "\n",
    "#cap.release()\n",
    "cv2.destroyAllWindows()"
   ]
  },
  {
   "cell_type": "code",
   "execution_count": 5,
   "metadata": {
    "collapsed": false
   },
   "outputs": [
    {
     "name": "stdout",
     "output_type": "stream",
     "text": [
      "3.1.0\n"
     ]
    }
   ],
   "source": [
    "import cv2\n",
    "print (cv2.__version__)"
   ]
  }
 ],
 "metadata": {
  "anaconda-cloud": {},
  "kernelspec": {
   "display_name": "Python [conda root]",
   "language": "python",
   "name": "conda-root-py"
  },
  "language_info": {
   "codemirror_mode": {
    "name": "ipython",
    "version": 3
   },
   "file_extension": ".py",
   "mimetype": "text/x-python",
   "name": "python",
   "nbconvert_exporter": "python",
   "pygments_lexer": "ipython3",
   "version": "3.5.2"
  }
 },
 "nbformat": 4,
 "nbformat_minor": 1
}
