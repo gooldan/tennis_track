{
 "cells": [
  {
   "cell_type": "code",
   "execution_count": 10,
   "metadata": {
    "collapsed": false
   },
   "outputs": [
    {
     "name": "stdout",
     "output_type": "stream",
     "text": [
      "32\n",
      "32\n",
      "27\n"
     ]
    }
   ],
   "source": [
    "import numpy as np\n",
    "import cv2\n",
    "from matplotlib import pyplot as plt\n",
    "import scipy as sp\n",
    "\n",
    "cap = cv2.VideoCapture(\"vid.mp4\")\n",
    "cap.set(cv2.CAP_PROP_POS_MSEC,350000)\n",
    "fgbg = cv2.createBackgroundSubtractorMOG2(500,50,False)\n",
    "perFrame=False\n",
    "i = 0\n",
    "kernel = cv2.getStructuringElement(cv2.MORPH_ELLIPSE,(3,3))\n",
    "kernel1 = cv2.getStructuringElement(cv2.MORPH_CROSS,(5,5))\n",
    "while(1):\n",
    "    i+=1\n",
    "    ret, frame = cap.read()\n",
    "    black = np.zeros((int(cap.get(cv2.CAP_PROP_FRAME_HEIGHT)),int(cap.get(cv2.CAP_PROP_FRAME_WIDTH)),3), np.uint8)\n",
    "    fgmask = fgbg.apply(frame)\n",
    "    fgmask = cv2.morphologyEx(fgmask, cv2.MORPH_OPEN, kernel)\n",
    "    res = cv2.bitwise_and(frame,frame,mask = fgmask)\n",
    "    ret,thresh = cv2.threshold(fgmask,127,255,cv2.THRESH_BINARY)\n",
    "    im2, contours, hierarchy = cv2.findContours(thresh,cv2.RETR_TREE,cv2.CHAIN_APPROX_SIMPLE)\n",
    "    hsv = cv2.cvtColor(frame, cv2.COLOR_BGR2HSV)\n",
    "    for elem in contours:\n",
    "        area=cv2.contourArea(elem)\n",
    "        if(area>3):\n",
    "            mask = np.zeros(frame.shape[:2], dtype=\"uint8\")\n",
    "            cv2.drawContours(mask, [elem], -1, 255, -1)\n",
    "            mean = cv2.mean(hsv, mask=mask)[:3]\n",
    "            M = cv2.moments(elem)\n",
    "            if(M[\"m00\"]!=0 and M[\"m00\"]!=0):\n",
    "                cX = int((M[\"m10\"] / M[\"m00\"]))\n",
    "                cY = int((M[\"m01\"] / M[\"m00\"]))\n",
    "                cv2.putText(res,str(mean), (cX,cY), cv2.FONT_HERSHEY_SIMPLEX, 0.3, 255)\n",
    "    cv2.drawContours(hsv, contours, -1, (255,255,255), 1)\n",
    "    cv2.imshow('frame',res)\n",
    "    \n",
    "    delay = 1\n",
    "    k = cv2.waitKey(delay)\n",
    "    if(k!=-1):\n",
    "        print (k)\n",
    "    if k == 27:\n",
    "        break\n",
    "    if k == 112:\n",
    "        cv2.imwrite('pic{:>05}.jpg'.format(i), res)\n",
    "    if k == 32 or perFrame==True:\n",
    "        k = cv2.waitKey(0)\n",
    "        if(k==32):\n",
    "            perFrame=False\n",
    "            continue\n",
    "        if k == 112:\n",
    "            cv2.imwrite('pic{:>05}.jpg'.format(i), res)\n",
    "            cv2.imwrite('picr{:>05}.jpg'.format(i), res1)\n",
    "        if(k == 2555904): \n",
    "            perFrame=True\n",
    "            continue\n",
    "    \n",
    "        \n",
    "    \n",
    "\n",
    "cap.release()\n",
    "cv2.destroyAllWindows()"
   ]
  }
 ],
 "metadata": {
  "kernelspec": {
   "display_name": "Python 2",
   "language": "python",
   "name": "python2"
  },
  "language_info": {
   "codemirror_mode": {
    "name": "ipython",
    "version": 2
   },
   "file_extension": ".py",
   "mimetype": "text/x-python",
   "name": "python",
   "nbconvert_exporter": "python",
   "pygments_lexer": "ipython2",
   "version": "2.7.12"
  }
 },
 "nbformat": 4,
 "nbformat_minor": 0
}
