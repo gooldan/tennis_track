{
 "cells": [
  {
   "cell_type": "code",
   "execution_count": 16,
   "metadata": {
    "collapsed": false
   },
   "outputs": [
    {
     "data": {
      "text/plain": [
       "-1"
      ]
     },
     "execution_count": 16,
     "metadata": {},
     "output_type": "execute_result"
    }
   ],
   "source": [
    "import numpy as np\n",
    "import cv2\n",
    "import sys\n",
    "\n",
    "def _thinningIteration2(im, iter):\n",
    "    I, M = im, np.zeros_like(im)\n",
    "    rows=I.shape[1]-2\n",
    "    cols=I.shape[0]-2\n",
    "    for i in range(1,rows):\n",
    "        for j in range(1,cols):\n",
    "            p2 = int(I[i-1][ j ])\n",
    "            p3 = int(I[i-1][ j+1 ])\n",
    "            p4 = int(I[i ][j+1 ])\n",
    "            p5 = int(I[i+1][ j+1 ])\n",
    "            p6 = int(I[i+1][ j ])\n",
    "            p7 = int(I[i+1][ j-1 ])\n",
    "            p8 = int(I[i ][j-1 ])\n",
    "            p9 = int(I[i-1][ j-1 ])\n",
    "            #print(p2)\n",
    "            C  = (1-p2 & (p3 | p4)) + (1-p4 & (p5 | p6)) +\\\n",
    "                     (1-p6 & (p7 | p8)) + (1-p8 & (p9 | p2))\n",
    "            N1 = (p9 | p2) + (p3 | p4) + (p5 | p6) + (p7 | p8)\n",
    "            N2 = (p2 | p3) + (p4 | p5) + (p6 | p7) + (p8 | p9)\n",
    "            N  = N1 if N1 < N2 else N2\n",
    "            m  = ((p6 | p7 | 1-p9) & p8) if iter == 0 else ((p2 | p3 | 1-p5) & p4)\n",
    "            if C == 1 and (N >= 2 and N <= 3) and m == 0:\n",
    "                M[i][j] = 1.\n",
    "    \n",
    "    \n",
    "    return cv2.bitwise_and(I,1.-M)\n",
    "\n",
    "\n",
    "def thinning(src):\n",
    "    dst = src.copy() / 255\n",
    "    prev = np.zeros(src.shape[:2], np.uint8)\n",
    "    diff = None\n",
    "\n",
    "    while True:\n",
    "        dst = _thinningIteration2(dst, 0)\n",
    "        dst = _thinningIteration2(dst, 1)\n",
    "        diff = np.absolute(dst - prev)\n",
    "        prev = dst.copy()\n",
    "        if np.sum(diff) == 0:\n",
    "            break\n",
    "\n",
    "    return dst * 255\n",
    "\n",
    "\n",
    "\n",
    "src = cv2.imread('C:\\\\Users\\\\egor\\\\Documents\\\\marking\\\\ballDir\\\\98_1.jpg',0)\n",
    "\n",
    "\n",
    "_, bw2 = cv2.threshold(src, 10, 255, cv2.THRESH_BINARY)\n",
    "bw2 = thinning(bw2)\n",
    "res1 = cv2.resize(src,None,fx=5, fy=5, interpolation = cv2.INTER_LINEAR)\n",
    "cv2.imshow(\"src\", res1)\n",
    "res = cv2.resize(bw2,None,fx=5, fy=5, interpolation = cv2.INTER_LINEAR)\n",
    "cv2.imshow(\"thinning\", res)\n",
    "cv2.imwrite(\"C:\\\\Users\\\\egor\\\\Documents\\\\marking\\\\tem1p.jpg\",bw2)\n",
    "cv2.waitKey()"
   ]
  }
 ],
 "metadata": {
  "anaconda-cloud": {},
  "kernelspec": {
   "display_name": "Python [conda root]",
   "language": "python",
   "name": "conda-root-py"
  },
  "language_info": {
   "codemirror_mode": {
    "name": "ipython",
    "version": 3
   },
   "file_extension": ".py",
   "mimetype": "text/x-python",
   "name": "python",
   "nbconvert_exporter": "python",
   "pygments_lexer": "ipython3",
   "version": "3.5.2"
  }
 },
 "nbformat": 4,
 "nbformat_minor": 1
}
