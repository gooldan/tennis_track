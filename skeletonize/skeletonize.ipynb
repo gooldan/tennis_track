{
 "cells": [
  {
   "cell_type": "code",
   "execution_count": 2,
   "metadata": {
    "collapsed": false
   },
   "outputs": [],
   "source": [
    "import numpy as np\n",
    "import cv2\n",
    "import sys\n",
    "\n",
    "def _thinningIteration2(im, iter):\n",
    "    I, M = im, np.zeros_like(im)\n",
    "    rows=I.shape[1]-2\n",
    "    cols=I.shape[0]-2\n",
    "    for i in range(1,rows):\n",
    "        for j in range(1,cols):\n",
    "            p2 = int(I[i-1][ j ])\n",
    "            p3 = int(I[i-1][ j+1 ])\n",
    "            p4 = int(I[i ][j+1 ])\n",
    "            p5 = int(I[i+1][ j+1 ])\n",
    "            p6 = int(I[i+1][ j ])\n",
    "            p7 = int(I[i+1][ j-1 ])\n",
    "            p8 = int(I[i ][j-1 ])\n",
    "            p9 = int(I[i-1][ j-1 ])\n",
    "            #print(p2)\n",
    "            C  = (1-p2 & (p3 | p4)) + (1-p4 & (p5 | p6)) +\\\n",
    "                     (1-p6 & (p7 | p8)) + (1-p8 & (p9 | p2))\n",
    "            N1 = (p9 | p2) + (p3 | p4) + (p5 | p6) + (p7 | p8)\n",
    "            N2 = (p2 | p3) + (p4 | p5) + (p6 | p7) + (p8 | p9)\n",
    "            N  = N1 if N1 < N2 else N2\n",
    "            m  = ((p6 | p7 | 1-p9) & p8) if iter == 0 else ((p2 | p3 | 1-p5) & p4)\n",
    "            if C == 1 and (N >= 2 and N <= 3) and m == 0:\n",
    "                M[i][j] = 1.\n",
    "    \n",
    "    \n",
    "    return cv2.bitwise_and(I,1.-M)\n",
    "\n",
    "\n",
    "def thinning(src):\n",
    "    dst = src.copy() / 255\n",
    "    prev = np.zeros(src.shape[:2], np.uint8)\n",
    "    diff = None\n",
    "\n",
    "    while True:\n",
    "        dst = _thinningIteration2(dst, 0)\n",
    "        dst = _thinningIteration2(dst, 1)\n",
    "        diff = np.absolute(dst - prev)\n",
    "        prev = dst.copy()\n",
    "        if np.sum(diff) == 0:\n",
    "            break\n",
    "\n",
    "    return dst * 255\n",
    "\n",
    "\n",
    "\n",
    "src = cv2.imread('C:\\\\Users\\\\egor\\\\Documents\\\\marking\\\\67_1.jpg',0)\n",
    "\n",
    "\n",
    "_, bw2 = cv2.threshold(src, 10, 255, cv2.THRESH_BINARY)\n",
    "bw2 = thinning(bw2)\n",
    "res1 = cv2.resize(src,None,fx=5, fy=5, interpolation = cv2.INTER_LINEAR)\n",
    "cv2.imshow(\"src\", res1)\n",
    "res = cv2.resize(bw2,None,fx=5, fy=5, interpolation = cv2.INTER_LINEAR)\n",
    "cv2.imshow(\"thinning\", res)\n",
    "cv2.imwrite(\"C:\\\\Users\\\\egor\\\\Documents\\\\marking\\\\tem1p.jpg\",bw2)\n",
    "cv2.waitKey()\n",
    "cv2.destroyAllWindows()"
   ]
  },
  {
   "cell_type": "code",
   "execution_count": null,
   "metadata": {
    "collapsed": false
   },
   "outputs": [
    {
     "name": "stdout",
     "output_type": "stream",
     "text": [
      "[[False False False ..., False False False]\n",
      " [False False False ..., False False False]\n",
      " [False False False ..., False False False]\n",
      " ..., \n",
      " [False False False ..., False False False]\n",
      " [False False False ..., False False False]\n",
      " [False False False ..., False False False]]\n"
     ]
    }
   ],
   "source": [
    "from skimage import morphology\n",
    "import cv2\n",
    "import numpy as np\n",
    "im = cv2.imread('C:\\\\Users\\\\egor\\\\Documents\\\\marking\\\\67_1.jpg',0)\n",
    "im = cv2.threshold(im, 0, 255, cv2.THRESH_OTSU)[1]\n",
    "im = morphology.skeletonize(im > 0)\n",
    "print(im)\n",
    "t=np.array([[1. if el==True else 0 for el in row] for row in im])\n",
    "cv2.imshow(\"thinning\", t)\n",
    "cv2.waitKey()\n",
    "cv2.destroyAllWindows()"
   ]
  },
  {
   "cell_type": "code",
   "execution_count": 84,
   "metadata": {
    "collapsed": false
   },
   "outputs": [],
   "source": [
    "import numpy as np\n",
    "import cv2\n",
    "from matplotlib import pyplot as plt\n",
    "\n",
    "imgL = cv2.imread('C:\\\\Users\\\\egor\\\\Documents\\\\Visual Studio 2013\\\\Projects\\\\calib\\\\calib\\\\l.jpg',0)\n",
    "imgR = cv2.imread('C:\\\\Users\\\\egor\\\\Documents\\\\Visual Studio 2013\\\\Projects\\\\calib\\\\calib\\\\r.jpg',0)\n",
    "vis = np.concatenate((imgL, imgL), axis=1)\n",
    "for i in range(50):\n",
    "    cv2.line(vis,(0,i*16),(2304,i*16),(255,255,255))\n",
    "stereo = cv2.StereoBM_create(numDisparities=16, blockSize=15)\n",
    "disparity = cv2.normalize(stereo.compute(imgL, imgR),dst=disparity, alpha=0, beta=255, \\\n",
    "    norm_type=cv2.NORM_MINMAX, dtype=cv2.CV_8U)\n",
    "cv2.imshow('gray',vis)\n",
    "cv2.waitKey()\n",
    "cv2.destroyAllWindows()"
   ]
  },
  {
   "cell_type": "code",
   "execution_count": null,
   "metadata": {
    "collapsed": false
   },
   "outputs": [
    {
     "name": "stdout",
     "output_type": "stream",
     "text": [
      "out.ply saved\n"
     ]
    }
   ],
   "source": [
    "import yaml\n",
    "import numpy as np\n",
    "import cv2\n",
    "\n",
    "ply_header = '''ply\n",
    "format ascii 1.0\n",
    "element vertex %(vert_num)d\n",
    "property float x\n",
    "property float y\n",
    "property float z\n",
    "property uchar red\n",
    "property uchar green\n",
    "property uchar blue\n",
    "end_header\n",
    "'''\n",
    "\n",
    "def write_ply(fn, verts, colors):\n",
    "    verts = verts.reshape(-1, 3)\n",
    "    colors = colors.reshape(-1, 3)\n",
    "    verts = np.hstack([verts, colors])\n",
    "    with open(fn, 'wb') as f:\n",
    "        f.write((ply_header % dict(vert_num=len(verts))).encode('utf-8'))\n",
    "        np.savetxt(f, verts, fmt='%f %f %f %d %d %d ')\n",
    "def opencv_matrix(loader, node):\n",
    "    mapping = loader.construct_mapping(node, deep=True)\n",
    "    mat = np.array(mapping[\"data\"])\n",
    "    mat.resize(mapping[\"rows\"], mapping[\"cols\"])\n",
    "    return mat\n",
    "\n",
    "def getLeftRight_rectificated(imgL,imgR):\n",
    "    \n",
    "    yaml.add_constructor(u\"tag:yaml.org,2002:opencv-matrix\", opencv_matrix)\n",
    "    \n",
    "    with open(\"C:\\\\Users\\\\egor\\\\Documents\\\\Visual Studio 2013\\\\Projects\\\\calib\\\\calib\\\\intrinsics.yml\", 'r') as fin:\n",
    "        try:\n",
    "            result = yaml.load(fin.read())\n",
    "        except yaml.YAMLError as exc:\n",
    "            print(exc)\n",
    "    \n",
    "    cameraMatrix0=result[\"M1\"]\n",
    "    cameraMatrix1=result[\"M2\"]\n",
    "    distCoeffs0=result[\"D1\"]\n",
    "    distCoeffs1=result[\"D2\"]\n",
    "    with open(\"C:\\\\Users\\\\egor\\\\Documents\\\\Visual Studio 2013\\\\Projects\\\\calib\\\\calib\\\\extrinsics.yml\", 'r') as fin:\n",
    "        try:\n",
    "            result = yaml.load(fin.read())\n",
    "        except yaml.YAMLError as exc:\n",
    "            print(exc)\n",
    "    R1=result[\"R1\"]\n",
    "    R2=result[\"R2\"]\n",
    "    P1=result[\"P1\"]\n",
    "    P2=result[\"P2\"]\n",
    "    imageSizeCropped=result[\"imageSizeCropped\"]\n",
    "    Q=result[\"Q\"]\n",
    "    w = imageSizeCropped[0]\n",
    "    h= imageSizeCropped[1]\n",
    "    rm00,rm01=cv2.initUndistortRectifyMap(cameraMatrix0, distCoeffs0, R1, P1, tuple(imageSizeCropped), cv2.CV_16SC2)\n",
    "    rm10,rm11=cv2.initUndistortRectifyMap(cameraMatrix1, distCoeffs1, R2, P2, tuple(imageSizeCropped), cv2.CV_16SC2)\n",
    "    imgL=cv2.remap(imgL.copy(),rm00,rm01,cv2.INTER_LINEAR)\n",
    "    imgR=cv2.remap(imgR.copy(),rm10,rm11,cv2.INTER_LINEAR)\n",
    "    return imgL,imgR,Q\n",
    "iii=211\n",
    "perFrame=True\n",
    "\n",
    "\n",
    "\n",
    "while(1):\n",
    "    imgL = cv2.imread('C:\\\\Users\\\\egor\\\\Documents\\\\github\\\\diploma\\\\ball_try\\\\L_try2\\\\'+str(iii).zfill(9)+\".png\",0)\n",
    "    imgR = cv2.imread('C:\\\\Users\\\\egor\\\\Documents\\\\github\\\\diploma\\\\ball_try\\\\R_try2\\\\'+str(iii).zfill(9)+\".png\",0)    \n",
    "    imgL,imgR,Q=getLeftRight_rectificated(imgL,imgR)   \n",
    "    \n",
    "    stereo = cv2.StereoBM_create(numDisparities=16, blockSize=21)\n",
    "    res=stereo.compute(imgL, imgR)\n",
    "    disparity=np.zeros_like(res)\n",
    "    \n",
    "    disparity=cv2.normalize(res,dst=disparity, alpha=0, beta=255, norm_type=cv2.NORM_MINMAX, dtype=cv2.CV_8U)\n",
    "    cv2.imshow('left',imgL)\n",
    "    cv2.imshow('gray',disparity)\n",
    "    \n",
    "    h, w = imgL.shape[:2]\n",
    "    \n",
    "    points = cv2.reprojectImageTo3D(disparity, Q)\n",
    "    colors = np.array([[[el,el,el] for el in row] for row in imgL])\n",
    "    mask = disparity > disparity.min()\n",
    "    out_points = points[mask]\n",
    "    out_colors = colors[mask]\n",
    "    out_fn = 'out.ply'\n",
    "    write_ply('out.ply', out_points, out_colors)\n",
    "    print('%s saved' % 'out.ply')\n",
    "    k = cv2.waitKey(0)\n",
    "    break\n",
    "    delay = 1\n",
    "    iii+=1\n",
    "    \n",
    "    if k == 27:\n",
    "        break   \n",
    "    if k == 32 or perFrame==True:\n",
    "        k = cv2.waitKey(0)\n",
    "        if(k==32):\n",
    "            perFrame=False\n",
    "            continue        \n",
    "        if(k == 2555904): \n",
    "            perFrame=True\n",
    "            continue\n",
    "cv2.destroyAllWindows()"
   ]
  },
  {
   "cell_type": "code",
   "execution_count": 11,
   "metadata": {
    "collapsed": false
   },
   "outputs": [
    {
     "data": {
      "text/plain": [
       "[1, 1, 1]"
      ]
     },
     "execution_count": 11,
     "metadata": {},
     "output_type": "execute_result"
    }
   ],
   "source": [
    "import cv2\n",
    "t=[1,1,1]\n",
    "t"
   ]
  }
 ],
 "metadata": {
  "anaconda-cloud": {},
  "kernelspec": {
   "display_name": "Python [conda root]",
   "language": "python",
   "name": "conda-root-py"
  },
  "language_info": {
   "codemirror_mode": {
    "name": "ipython",
    "version": 3
   },
   "file_extension": ".py",
   "mimetype": "text/x-python",
   "name": "python",
   "nbconvert_exporter": "python",
   "pygments_lexer": "ipython3",
   "version": "3.5.2"
  }
 },
 "nbformat": 4,
 "nbformat_minor": 1
}
